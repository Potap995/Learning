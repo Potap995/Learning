{
 "cells": [
  {
   "cell_type": "code",
   "execution_count": 13,
   "outputs": [],
   "source": [
    "from sklearn.datasets import load_iris \n",
    "import numpy as np\n",
    "from IrisFisher import softmax, softmax_grad, logloss, sigmoid\n",
    "import matplotlib.pyplot as plt\n",
    "from seaborn import pairplot\n",
    "from pandas import DataFrame"
   ],
   "metadata": {
    "collapsed": false,
    "pycharm": {
     "name": "#%%\n",
     "is_executing": false
    }
   }
  },
  {
   "cell_type": "code",
   "execution_count": 14,
   "outputs": [],
   "source": [
    "data = load_iris()"
   ],
   "metadata": {
    "collapsed": false,
    "pycharm": {
     "name": "#%%\n",
     "is_executing": false
    }
   }
  },
  {
   "cell_type": "code",
   "execution_count": 15,
   "outputs": [],
   "source": [
    "\n",
    "def UnisonShuffle(a, b):\n",
    "    assert len(a) == len(b)\n",
    "    p = np.random.permutation(len(a))\n",
    "    return a[p], b[p]\n",
    "\n",
    "def random_init(size, left = -0.1, right = 0.1):\n",
    "    return np.random.random(size = size) * (right + left) + left\n",
    "\n",
    "def net_init_1(params):\n",
    "    params[\"L0\"] = np.zeros((1, 4))\n",
    "\n",
    "    params[\"W0\"] = random_init((4, 4))\n",
    "    params['b0'] = random_init((1, 4))\n",
    "\n",
    "    params[\"L1\"] = np.zeros((1, 4))\n",
    "    params[\"P1\"] = np.zeros((1, 4))\n",
    "    \n",
    "    params[\"W1\"] = random_init((4, 3))\n",
    "    params['b1'] = random_init((1, 3))\n",
    "    \n",
    "    params[\"L2\"] = np.zeros((1, 3))\n",
    "    params[\"P2\"] = np.zeros((1, 3))\n",
    "    \n",
    "    params[\"E\"] = np.zeros((1,1))\n",
    "    \n",
    "def check_shape_1(X, y):\n",
    "    if X.shape !=  (1, 4):\n",
    "        raise ValueError(\"X : Expect shape (1, 4), given {0}\".format(X.shape))\n",
    "    if y.shape !=  (1, 3):\n",
    "        raise ValueError(\"X : Expect shape (1, 3), given {0}\".format(y.shape))\n",
    "    \n",
    "def test_train_split_good(*arrays, **params):\n",
    "    len_n = len(arrays)\n",
    "    \n",
    "    shuffle = params.pop('shuffle', False)\n",
    "    \n",
    "def test_train_split(X, y, **options):\n",
    "    \n",
    "    \n",
    "    shuffle = options.pop('shuffle', False)\n",
    "    test_size = options.pop('test_size', 0.1)\n",
    "    \n",
    "    if shuffle:\n",
    "        X, y = UnisonShuffle(X, y)\n",
    "    \n",
    "    np.random.seed(1)\n",
    "    test_elems = np.random.choice(len(X), int(lenX * test_size), replace=False)\n",
    "    test_mask = np.zeros(lenX, dtype=bool)\n",
    "    test_mask[test_elems] = True\n",
    "    \n",
    "    return X[~test_mask], y[~test_mask], X[test_mask], y[test_mask] \n"
   ],
   "metadata": {
    "collapsed": false,
    "pycharm": {
     "name": "#%%\n",
     "is_executing": false
    }
   }
  },
  {
   "cell_type": "code",
   "execution_count": 16,
   "outputs": [],
   "source": [
    "class MinMaxNormalizer(): # to [0, 1]\n",
    "    def __init(self):\n",
    "        self.max = 0\n",
    "        self.min = 0\n",
    "        \n",
    "    def fit(self, x):\n",
    "        self.max = np.max(x)\n",
    "        self.min = np.min(x)\n",
    "    \n",
    "    def normalize(self, x):\n",
    "        x -= self.min\n",
    "        return x / self.max\n",
    "    \n",
    "    def fit_and_normalize(self, x):\n",
    "        self.fit(x)\n",
    "        return self.normalize(x)"
   ],
   "metadata": {
    "collapsed": false,
    "pycharm": {
     "name": "#%%\n",
     "is_executing": false
    }
   }
  },
  {
   "cell_type": "code",
   "execution_count": 17,
   "outputs": [],
   "source": [
    "def forward_prop_1(X, y, params):\n",
    "    check_shape_1(X, y)\n",
    "    \n",
    "    params[\"L0\"] = X\n",
    "\n",
    "    params[\"L1\"] = np.dot(params[\"L0\"], params[\"W0\"]) + params[\"b0\"]\n",
    "    params[\"P1\"] = sigmoid(params[\"L1\"])\n",
    "    \n",
    "    # params[\"P1\"] = X\n",
    "    \n",
    "    params[\"L2\"] = np.dot(params[\"P1\"], params[\"W1\"]) + params[\"b1\"]\n",
    "    params[\"P2\"] = softmax(params[\"L2\"])\n",
    "    \n",
    "    params[\"E\"] = logloss(params[\"P2\"], y)\n",
    "    \n",
    "def back_prop_1(X, y, params, giper_params):\n",
    "    check_shape_1(X, y)\n",
    "    \n",
    "    params[\"dE/dP2\"] = - y / params[\"P2\"] # 1x3\n",
    "    params[\"dP2/dL2\"] = softmax_grad(params[\"P2\"]) # 3x3\n",
    "    params[\"dE/dL2\"] = np.dot(params[\"dE/dP2\"], params[\"dP2/dL2\"]) # 1x3\n",
    "    params[\"dE/dW1\"] = np.dot(params[\"P1\"].T, params[\"dE/dL2\"]) #4x3\n",
    "    params[\"dE/db1\"] = params[\"dE/dL2\"]\n",
    "    \n",
    "    params[\"dE/dP1\"] = np.dot(params[\"dE/dL2\"], params[\"W1\"].T)# 1x4\n",
    "    params[\"dP1/dL1\"] = params[\"P1\"] * (1 - params[\"P1\"]) #1x4\n",
    "    params[\"dE/dL1\"] = params[\"dE/dP1\"] * params[\"dP1/dL1\"] # 1x4\n",
    "    # params[\"dE/dL1\"] = np.dot(params[\"dE/dL2\"], params[\"W1\"].T)\n",
    "    params[\"dE/dW0\"] = np.dot(params[\"L0\"].T, params[\"dE/dL1\"]) # 4x4\n",
    "    params[\"dE/db0\"] = params[\"dE/dL1\"]\n",
    "    \n",
    "    params[\"W1\"] -= giper_params[\"learning rate\"] * params[\"dE/dW1\"]\n",
    "    params[\"b1\"] -= giper_params[\"learning rate\"] * params[\"dE/db1\"]\n",
    "    \n",
    "    params[\"W0\"] -= giper_params[\"learning rate\"] * params[\"dE/dW0\"]\n",
    "    params[\"b0\"] -= giper_params[\"learning rate\"] * params[\"dE/db0\"]\n",
    "    "
   ],
   "metadata": {
    "collapsed": false,
    "pycharm": {
     "name": "#%%\n",
     "is_executing": false
    }
   }
  },
  {
   "cell_type": "code",
   "execution_count": 18,
   "outputs": [],
   "source": [
    "X = data[\"data\"]\n",
    "y_lables = data[\"target\"]\n",
    "\n",
    "All_len = len(X)\n",
    "\n",
    "y = np.zeros((len(y_lables), 3))\n",
    "for i, a in enumerate(y_lables):\n",
    "    y[i][a] = 1\n",
    "\n",
    "df= DataFrame(X)\n",
    "df[\"labels\"] = y_lables\n",
    "\n",
    "X = X.reshape(-1, 1, 4)\n",
    "y = y.reshape(-1, 1, 3)"
   ],
   "metadata": {
    "collapsed": false,
    "pycharm": {
     "name": "#%%\n",
     "is_executing": false
    }
   }
  },
  {
   "cell_type": "code",
   "execution_count": 19,
   "outputs": [],
   "source": [
    "TEST_SIZE = 30\n",
    "\n",
    "test_len = TEST_SIZE\n",
    "train_len = All_len - test_len\n",
    "\n",
    "X_train, y_train, X_test, y_test = test_train_split(X, y, shuffle=True, test_len=(test_len/All_len))"
   ],
   "metadata": {
    "collapsed": false,
    "pycharm": {
     "name": "#%%\n",
     "is_executing": false
    }
   }
  },
  {
   "cell_type": "code",
   "execution_count": 20,
   "outputs": [],
   "source": [
    "\n",
    "#strart from here \n",
    "normalizer = MinMaxNormalizer()\n",
    "X_train = normalizer.fit_and_normalize(X_train)\n",
    "X_test = normalizer.normalize(X_test)\n",
    "\n",
    "\n",
    "params = dict()\n",
    "giper_params = dict()\n",
    "giper_params[\"learning rate\"] = 0.01\n",
    "lenX = len(y)\n",
    "\n",
    "# pairplot(df, vars=[0, 1, 2, 3],  hue=\"labels\")\n",
    "# pairplot(dfN, vars=[0, 1, 2, 3],  hue=\"labels\")\n",
    "\n",
    "\n",
    "net_init_1(params)\n",
    "    "
   ],
   "metadata": {
    "collapsed": false,
    "pycharm": {
     "name": "#%%\n",
     "is_executing": false
    }
   }
  },
  {
   "cell_type": "code",
   "execution_count": 24,
   "outputs": [
    {
     "data": {
      "text/plain": "<Figure size 432x288 with 1 Axes>",
      "image/png": "[encoded data removed]"
     },
     "metadata": {
      "needs_background": "light"
     },
     "output_type": "display_data"
    }
   ],
   "source": [
    "test_accuracy = []\n",
    "train_accuracy = []\n",
    "time = []\n",
    "\n",
    "for i in range(train_len * 2000):\n",
    "    X_cur = X_train[i % train_len]\n",
    "    y_cur = y_train[i % train_len]\n",
    "    forward_prop_1(X_cur, y_cur, params)\n",
    "    back_prop_1(X_cur, y_cur, params, giper_params)\n",
    "    if (i % train_len) == train_len - 1:\n",
    "        time.append(i // train_len)\n",
    "        error_counter = 0\n",
    "        for iter, item in enumerate(y_test):\n",
    "            X_cur = X_test[iter]\n",
    "            y_cur = y_test[iter]\n",
    "            forward_prop_1(X_cur, y_cur, params)\n",
    "            if np.argmax(y_cur) != np.argmax(params[\"P2\"]):\n",
    "                error_counter += 1\n",
    "            # print(np.argmax(y_cur), np.argmax(params[\"P2\"]))\n",
    "            # print(params[\"P2\"])\n",
    "        test_accuracy.append(error_counter/TEST_SIZE)\n",
    "        # print(error_counter/TEST_SIZE, end = \"  \")\n",
    "        \n",
    "        error_counter = 0\n",
    "        for iter, item in enumerate(y_train):\n",
    "            X_cur = X_train[iter]\n",
    "            y_cur = y_train[iter]\n",
    "            forward_prop_1(X_cur, y_cur, params)\n",
    "            if np.argmax(y_cur) != np.argmax(params[\"P2\"]):\n",
    "                error_counter += 1\n",
    "            # print(np.argmax(y_cur), np.argmax(params[\"P2\"]))\n",
    "            # print(params[\"P2\"])\n",
    "        train_accuracy.append(error_counter/train_len)\n",
    "        # print(error_counter/All_len)\n",
    "    \n",
    "plt.plot(time, train_accuracy, \"r\")\n",
    "plt.plot(time, test_accuracy, \"b\")\n",
    "plt.show()"
   ],
   "metadata": {
    "collapsed": false,
    "pycharm": {
     "name": "#%%\n",
     "is_executing": false
    }
   }
  },
  {
   "cell_type": "code",
   "execution_count": null,
   "outputs": [],
   "source": [
    "print(train_accuracy)"
   ],
   "metadata": {
    "collapsed": false,
    "pycharm": {
     "name": "#%%\n"
    }
   }
  },
  {
   "cell_type": "code",
   "execution_count": null,
   "outputs": [],
   "source": [
    "error_counter = 0\n",
    "\n",
    "\n",
    "for iter, item in enumerate(y):\n",
    "    X_cur = X[iter % lenX]\n",
    "    y_cur = y[iter % lenX]\n",
    "    forward_prop_1(X_cur, y_cur, params)\n",
    "    if np.argmax(y_cur) != np.argmax(params[\"P2\"]):\n",
    "        error_counter += 1\n",
    "    # print(np.argmax(y_cur), np.argmax(params[\"P2\"]))\n",
    "    # print(params[\"P2\"])\n",
    "print(error_counter)"
   ],
   "metadata": {
    "collapsed": false,
    "pycharm": {
     "name": "#%%\n"
    }
   }
  },
  {
   "cell_type": "code",
   "execution_count": 12,
   "outputs": [
    {
     "data": {
      "text/plain": "array([False, False, False, False, False, False, False, False, False,\n       False, False, False, False, False, False, False, False, False,\n       False, False, False, False, False, False, False, False, False,\n       False, False, False, False, False, False, False, False, False,\n       False, False, False, False, False, False, False, False, False,\n       False, False, False, False, False, False, False, False, False,\n       False, False, False, False, False, False, False, False, False,\n       False, False, False, False, False, False, False, False, False,\n       False, False, False, False, False, False, False, False, False,\n       False, False, False, False, False, False, False, False, False,\n       False, False, False, False, False, False, False, False, False,\n       False, False, False, False, False, False, False, False, False,\n       False, False, False, False, False, False, False, False, False,\n       False, False, False, False, False, False, False, False, False,\n       False, False, False, False, False, False, False, False, False,\n       False, False, False, False, False, False, False, False, False,\n       False, False, False, False, False, False])"
     },
     "metadata": {},
     "output_type": "execute_result",
     "execution_count": 12
    }
   ],
   "source": [],
   "metadata": {
    "collapsed": false,
    "pycharm": {
     "name": "#%%\n",
     "is_executing": false
    }
   }
  },
  {
   "cell_type": "code",
   "execution_count": null,
   "outputs": [],
   "source": [
    "\n"
   ],
   "metadata": {
    "collapsed": false,
    "pycharm": {
     "name": "#%%\n"
    }
   }
  }
 ],
 "metadata": {
  "language_info": {
   "codemirror_mode": {
    "name": "ipython",
    "version": 2
   },
   "file_extension": ".py",
   "mimetype": "text/x-python",
   "name": "python",
   "nbconvert_exporter": "python",
   "pygments_lexer": "ipython2",
   "version": "2.7.6"
  },
  "kernelspec": {
   "name": "python3",
   "language": "python",
   "display_name": "Python 3"
  },
  "pycharm": {
   "stem_cell": {
    "cell_type": "raw",
    "source": [],
    "metadata": {
     "collapsed": false
    }
   }
  }
 },
 "nbformat": 4,
 "nbformat_minor": 0
}