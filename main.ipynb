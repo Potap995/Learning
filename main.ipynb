{
 "cells": [
  {
   "cell_type": "code",
   "execution_count": 30,
   "metadata": {
    "collapsed": true,
    "pycharm": {
     "is_executing": false
    }
   },
   "outputs": [],
   "source": [
    "from sklearn.datasets import load_iris  \n",
    "import numpy as np\n",
    "from IrisFisher import softmax, softmax_grad, logloss, sigmoid\n",
    "import matplotlib.pyplot as plt\n",
    "from seaborn import pairplot\n",
    "from pandas import DataFrame"
   ]
  },
  {
   "cell_type": "code",
   "execution_count": 4,
   "outputs": [],
   "source": [
    "data = load_iris()"
   ],
   "metadata": {
    "collapsed": false,
    "pycharm": {
     "name": "#%%\n",
     "is_executing": false
    }
   }
  },
  {
   "cell_type": "code",
   "execution_count": null,
   "outputs": [],
   "source": [
    "def UnisonShuffle(a, b):\n",
    "    assert len(a) == len(b)\n",
    "    p = np.random.permutation(len(a))\n",
    "    return a[p], b[p]\n",
    "\n",
    "def random_init(size, left = -0.1, right = 0.1):\n",
    "    return np.random.random(size = size) * (right + left) + left\n",
    "\n",
    "def net_init_1(params):\n",
    "    params[\"L0\"] = np.zeros((1, 4))\n",
    "\n",
    "    params[\"W0\"] = random_init((4, 4))\n",
    "    params['b0'] = random_init((1, 4))\n",
    "\n",
    "    params[\"L1\"] = np.zeros((1, 4))\n",
    "    params[\"P1\"] = np.zeros((1, 4))\n",
    "    \n",
    "    params[\"W1\"] = random_init((4, 3))\n",
    "    params['b1'] = random_init((1, 3))\n",
    "    \n",
    "    params[\"L2\"] = np.zeros((1, 3))\n",
    "    params[\"P2\"] = np.zeros((1, 3))\n",
    "    \n",
    "    params[\"E\"] = np.zeros((1,1))\n",
    "    \n",
    "def check_shape_1(X, y):\n",
    "    if X.shape !=  (1, 4):\n",
    "        raise ValueError(\"X : Expect shape (1, 4), given {0}\".format(X.shape))\n",
    "    if y.shape !=  (1, 3):\n",
    "        raise ValueError(\"X : Expect shape (1, 3), given {0}\".format(y.shape))\n",
    "\n",
    "def normalize_to_segment(X): # to [0, 1]\n",
    "    X -= np.min(X)\n",
    "    return X / np.max(X) "
   ],
   "metadata": {
    "collapsed": false,
    "pycharm": {
     "name": "#%%\n"
    }
   }
  },
  {
   "cell_type": "code",
   "execution_count": 5,
   "outputs": [],
   "source": [
    "def forward_prop_1(X, y, params):\n",
    "    check_shape_1(X, y)\n",
    "    \n",
    "    params[\"L0\"] = X\n",
    "\n",
    "    params[\"L1\"] = np.dot(params[\"L0\"], params[\"W0\"]) + params[\"b0\"]\n",
    "    params[\"P1\"] = sigmoid(params[\"L1\"])\n",
    "    \n",
    "    # params[\"P1\"] = X\n",
    "    \n",
    "    params[\"L2\"] = np.dot(params[\"P1\"], params[\"W1\"]) + params[\"b1\"]\n",
    "    params[\"P2\"] = softmax(params[\"L2\"])\n",
    "    \n",
    "    params[\"E\"] = logloss(params[\"P2\"], y)\n",
    "    \n",
    "def back_prop_1(X, y, params, giper_params):\n",
    "    check_shape_1(X, y)\n",
    "    \n",
    "    params[\"dE/dP2\"] = - y / params[\"P2\"] # 1x3\n",
    "    params[\"dP2/dL2\"] = softmax_grad(params[\"P2\"]) # 3x3\n",
    "    params[\"dE/dL2\"] = np.dot(params[\"dE/dP2\"], params[\"dP2/dL2\"]) # 1x3\n",
    "    params[\"dE/dW1\"] = np.dot(params[\"P1\"].T, params[\"dE/dL2\"]) #4x3\n",
    "    params[\"dE/db1\"] = params[\"dE/dL2\"]\n",
    "    \n",
    "    params[\"dE/dP1\"] = np.dot(params[\"dE/dL2\"], params[\"W1\"].T)# 1x4\n",
    "    params[\"dP1/dL1\"] = params[\"P1\"] * (1 - params[\"P1\"]) #1x4\n",
    "    params[\"dE/dL1\"] = params[\"dE/dP1\"] * params[\"dP1/dL1\"] # 1x4\n",
    "    # params[\"dE/dL1\"] = np.dot(params[\"dE/dL2\"], params[\"W1\"].T)\n",
    "    params[\"dE/dW0\"] = np.dot(params[\"L0\"].T, params[\"dE/dL1\"]) # 4x4\n",
    "    params[\"dE/db0\"] = params[\"dE/dL1\"]\n",
    "    \n",
    "    params[\"W1\"] -= giper_params[\"learning rate\"] * params[\"dE/dW1\"]\n",
    "    params[\"b1\"] -= giper_params[\"learning rate\"] * params[\"dE/db1\"]\n",
    "    \n",
    "    params[\"W0\"] -= giper_params[\"learning rate\"] * params[\"dE/dW0\"]\n",
    "    params[\"b0\"] -= giper_params[\"learning rate\"] * params[\"dE/db0\"]\n",
    "    "
   ],
   "metadata": {
    "collapsed": false,
    "pycharm": {
     "name": "#%%\n",
     "is_executing": false
    }
   }
  },
  {
   "cell_type": "code",
   "execution_count": 47,
   "outputs": [],
   "source": [
    "X = data[\"data\"]\n",
    "y_lables = data[\"target\"]\n",
    "\n",
    "X, y_lables = UnisonShuffle(X, y_lables)\n",
    "\n",
    "y = np.zeros((len(y_lables), 3))\n",
    "for i, a in enumerate(y_lables):\n",
    "    y[i][a] = 1\n",
    "\n",
    "TEST_SIZE = 30\n",
    "\n",
    "df= DataFrame(X)\n",
    "df[\"labels\"] = y_lables\n",
    "\n",
    "np.random.seed(1)\n",
    "test = np.random.choice(149, TEST_SIZE, replace=False)\n",
    "# X = normalize_to_segment(X)\n",
    "dfN= DataFrame(X)\n",
    "dfN[\"labels\"] = y_lables\n",
    "\n",
    "X = X.reshape(-1, 1, 4)\n",
    "y = y.reshape(-1, 1, 3)\n",
    "X_test = X[test]\n",
    "y_test = y[test]\n",
    "X = X[~test]\n",
    "y = y[~test]\n",
    "\n",
    "\n",
    "params = dict()\n",
    "giper_params = dict()\n",
    "giper_params[\"learning rate\"] = 0.01\n",
    "lenX = len(y)\n",
    "\n",
    "# pairplot(df, vars=[0, 1, 2, 3],  hue=\"labels\")\n",
    "# pairplot(dfN, vars=[0, 1, 2, 3],  hue=\"labels\")\n",
    "\n",
    "\n",
    "net_init_1(params)\n",
    "    "
   ],
   "metadata": {
    "collapsed": false,
    "pycharm": {
     "name": "#%%\n",
     "is_executing": false
    }
   }
  },
  {
   "cell_type": "code",
   "execution_count": 48,
   "outputs": [
    {
     "data": {
      "text/plain": "<Figure size 432x288 with 1 Axes>",
      "image/png": "[encoded data removed]"
     },
     "metadata": {
      "needs_background": "light"
     },
     "output_type": "display_data"
    }
   ],
   "source": [
    "test_accuracy = []\n",
    "train_accuracy = []\n",
    "time = []\n",
    "\n",
    "for i in range(lenX * 2000):\n",
    "    X_cur = X[i % lenX]\n",
    "    y_cur = y[i % lenX]\n",
    "    forward_prop_1(X_cur, y_cur, params)\n",
    "    back_prop_1(X_cur, y_cur, params, giper_params)\n",
    "    if (i % lenX) == lenX - 1:\n",
    "        time.append(i // lenX)\n",
    "        error_counter = 0\n",
    "        for iter, item in enumerate(y_test):\n",
    "            X_cur = X_test[iter]\n",
    "            y_cur = y_test[iter]\n",
    "            forward_prop_1(X_cur, y_cur, params)\n",
    "            if np.argmax(y_cur) != np.argmax(params[\"P2\"]):\n",
    "                error_counter += 1\n",
    "            # print(np.argmax(y_cur), np.argmax(params[\"P2\"]))\n",
    "            # print(params[\"P2\"])\n",
    "        test_accuracy.append(error_counter/TEST_SIZE)\n",
    "        # print(error_counter/TEST_SIZE, end = \"  \")\n",
    "        \n",
    "        error_counter = 0\n",
    "        for iter, item in enumerate(y):\n",
    "            X_cur = X[iter]\n",
    "            y_cur = y[iter]\n",
    "            forward_prop_1(X_cur, y_cur, params)\n",
    "            if np.argmax(y_cur) != np.argmax(params[\"P2\"]):\n",
    "                error_counter += 1\n",
    "            # print(np.argmax(y_cur), np.argmax(params[\"P2\"]))\n",
    "            # print(params[\"P2\"])\n",
    "        train_accuracy.append(error_counter/lenX)\n",
    "        # print(error_counter/lenX)\n",
    "    \n",
    "plt.plot(time, train_accuracy, \"r\")\n",
    "plt.plot(time, test_accuracy, \"b\")\n",
    "plt.show()"
   ],
   "metadata": {
    "collapsed": false,
    "pycharm": {
     "name": "#%%\n",
     "is_executing": false
    }
   }
  },
  {
   "cell_type": "code",
   "execution_count": 24,
   "outputs": [
    {
     "name": "stdout",
     "text": [
      "[0.6, 0.6, 0.6, 0.6, 0.6, 0.6, 0.6, 0.6, 0.6, 0.6, 0.6, 0.6, 0.6, 0.6, 0.6, 0.6, 0.6, 0.6, 0.6, 0.6, 0.6, 0.6, 0.6, 0.6, 0.6, 0.6, 0.6, 0.6, 0.6, 0.6, 0.6, 0.6, 0.6, 0.6, 0.6, 0.6, 0.6, 0.6, 0.6, 0.6, 0.6, 0.6, 0.6, 0.6, 0.6, 0.6, 0.6, 0.6, 0.6, 0.6, 0.6, 0.6, 0.6, 0.6, 0.6, 0.6, 0.6, 0.6, 0.6, 0.6, 0.6, 0.6, 0.6, 0.6, 0.6, 0.6, 0.6, 0.6, 0.6, 0.6, 0.6, 0.6, 0.6, 0.6, 0.6, 0.5666666666666667, 0.5666666666666667, 0.5666666666666667, 0.5666666666666667, 0.5333333333333333, 0.5333333333333333, 0.5333333333333333, 0.5333333333333333, 0.5333333333333333, 0.5333333333333333, 0.5, 0.43333333333333335, 0.4, 0.4, 0.3333333333333333, 0.23333333333333334, 0.23333333333333334, 0.2, 0.2, 0.2, 0.2, 0.16666666666666666, 0.16666666666666666, 0.13333333333333333, 0.13333333333333333]\n"
     ],
     "output_type": "stream"
    }
   ],
   "source": [
    "print(train_accuracy)"
   ],
   "metadata": {
    "collapsed": false,
    "pycharm": {
     "name": "#%%\n",
     "is_executing": false
    }
   }
  },
  {
   "cell_type": "code",
   "execution_count": null,
   "outputs": [],
   "source": [
    "error_counter = 0\n",
    "\n",
    "\n",
    "for iter, item in enumerate(y):\n",
    "    X_cur = X[iter % lenX]\n",
    "    y_cur = y[iter % lenX]\n",
    "    forward_prop_1(X_cur, y_cur, params)\n",
    "    if np.argmax(y_cur) != np.argmax(params[\"P2\"]):\n",
    "        error_counter += 1\n",
    "    # print(np.argmax(y_cur), np.argmax(params[\"P2\"]))\n",
    "    # print(params[\"P2\"])\n",
    "print(error_counter)\n",
    "\n"
   ],
   "metadata": {
    "collapsed": false,
    "pycharm": {
     "name": "#%%\n"
    }
   }
  },
  {
   "cell_type": "code",
   "execution_count": 6,
   "outputs": [],
   "source": [
    "    "
   ],
   "metadata": {
    "collapsed": false,
    "pycharm": {
     "name": "#%%\n",
     "is_executing": false
    }
   }
  },
  {
   "cell_type": "code",
   "execution_count": null,
   "outputs": [],
   "source": [
    "\n"
   ],
   "metadata": {
    "collapsed": false,
    "pycharm": {
     "name": "#%%\n"
    }
   }
  }
 ],
 "metadata": {
  "language_info": {
   "codemirror_mode": {
    "name": "ipython",
    "version": 2
   },
   "file_extension": ".py",
   "mimetype": "text/x-python",
   "name": "python",
   "nbconvert_exporter": "python",
   "pygments_lexer": "ipython2",
   "version": "2.7.6"
  },
  "kernelspec": {
   "name": "python3",
   "language": "python",
   "display_name": "Python 3"
  },
  "pycharm": {
   "stem_cell": {
    "cell_type": "raw",
    "source": [],
    "metadata": {
     "collapsed": false
    }
   }
  }
 },
 "nbformat": 4,
 "nbformat_minor": 0
}