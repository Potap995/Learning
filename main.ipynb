{
 "cells": [
  {
   "cell_type": "code",
   "execution_count": 16,
   "outputs": [],
   "source": [
    "from sklearn.datasets import load_iris\n",
    "import numpy as np\n",
    "from IrisFisher import softmax, logloss, sigmoid\n",
    "import matplotlib.pyplot as plt\n",
    "from seaborn import pairplot\n",
    "from pandas import DataFrame\n",
    "from IrisFisher import MinMaxNormalizer"
   ],
   "metadata": {
    "collapsed": false,
    "pycharm": {
     "name": "#%%\n",
     "is_executing": false
    }
   }
  },
  {
   "cell_type": "code",
   "execution_count": 17,
   "outputs": [],
   "source": [
    "data = load_iris()"
   ],
   "metadata": {
    "collapsed": false,
    "pycharm": {
     "name": "#%%\n",
     "is_executing": false
    }
   }
  },
  {
   "cell_type": "code",
   "execution_count": 18,
   "outputs": [],
   "source": [
    "\n",
    "def UnisonShuffle(a, b):\n",
    "    assert len(a) == len(b)\n",
    "    p = np.random.permutation(len(a))\n",
    "    return a[p], b[p]\n",
    "\n",
    "\n",
    "def test_train_split_good(*arrays, **params):\n",
    "    len_n = len(arrays)\n",
    "\n",
    "    shuffle = params.pop('shuffle', False)\n",
    "\n",
    "\n",
    "def test_train_split(X, y, **options):\n",
    "    lenX = len(X)\n",
    "\n",
    "    shuffle = options.pop('shuffle', False)\n",
    "    test_size = options.pop('test_size', 0.1)\n",
    "\n",
    "    if shuffle:\n",
    "        X, y = UnisonShuffle(X, y)\n",
    "\n",
    "    test_elems = np.random.choice(lenX, int(lenX * test_size), replace=False)\n",
    "    test_mask = np.zeros(lenX, dtype=bool)\n",
    "    test_mask[test_elems] = True\n",
    "\n",
    "    return X[~test_mask], y[~test_mask], X[test_mask], y[test_mask]"
   ],
   "metadata": {
    "collapsed": false,
    "pycharm": {
     "name": "#%%\n",
     "is_executing": false
    }
   }
  },
  {
   "cell_type": "code",
   "execution_count": 19,
   "outputs": [],
   "source": [
    "\n",
    "def count_accuracy(X, y, params):\n",
    "    error_counter = 0\n",
    "    for iter, item in enumerate(y):\n",
    "        X_cur = X[iter]\n",
    "        y_cur = y[iter]\n",
    "        forward_prop_1(X_cur, y_cur, params)\n",
    "        if np.argmax(y_cur) != np.argmax(params[\"P2\"]):\n",
    "            error_counter += 1\n",
    "    return (len(y) - error_counter) / len(y)\n",
    "\n",
    "\n",
    "#Doesn't work \n",
    "def softmax_grad_2(x):\n",
    "    # I don't know how to make dot product along first axes. Like [2, 3] and [3, 2] to [2, 3, 3]\n",
    "    # Can be implemented in loop, but i don't want\n",
    "    Id = np.eye(x.shape[-1])\n",
    "    return x[..., np.newaxis] * Id\n",
    "\n",
    "def random_init(size, left=-0.1, right=0.1):\n",
    "    return np.random.random(size=size) * (right + left) + left\n",
    "\n",
    "def net_init_1(params):\n",
    "    params[\"L0\"] = np.zeros((1, 4))\n",
    "\n",
    "    params[\"W0\"] = random_init((4, 4))\n",
    "    params['b0'] = np.zeros((1, 4))\n",
    "\n",
    "    params[\"L1\"] = np.zeros((1, 4))\n",
    "    params[\"P1\"] = np.zeros((1, 4))\n",
    "\n",
    "    params[\"W1\"] = random_init((4, 3))\n",
    "    params['b1'] = np.zeros((1, 4))\n",
    "\n",
    "    params[\"L2\"] = np.zeros((1, 3))\n",
    "    params[\"P2\"] = np.zeros((1, 3))\n",
    "\n",
    "    params[\"E\"] = np.zeros((1, 1))\n",
    "\n",
    "\n",
    "\n",
    "def forward_prop_1(X, y, params):\n",
    "    params[\"L0\"] = X\n",
    "\n",
    "    params[\"L1\"] = np.dot(params[\"L0\"], params[\"W0\"]) + params[\"b0\"]\n",
    "    params[\"P1\"] = sigmoid(params[\"L1\"])\n",
    "\n",
    "    # params[\"P1\"] = X\n",
    "\n",
    "    params[\"L2\"] = np.dot(params[\"P1\"], params[\"W1\"]) + params[\"b1\"]\n",
    "    params[\"P2\"] = softmax(params[\"L2\"])\n",
    "\n",
    "    params[\"E\"] = logloss(params[\"P2\"], y)\n",
    "\n",
    "\n",
    "def back_prop_2(X, y, params, giper_params):\n",
    "    #Can simplify it to \n",
    "    # params[\"dE/dP2\"] = - y / params[\"P2\"]  # 1x3\n",
    "    # params[\"dP2/dL2\"] = softmax_grad_2(params[\"P2\"])  # 3x3\n",
    "    # params[\"dE/dL2\"] = np.dot(params[\"dE/dP2\"], params[\"dP2/dL2\"])  # 1x3\n",
    "    # to \n",
    "    params[\"dE/dL2\"] = params[\"P2\"] - y\n",
    "\n",
    "    params[\"dE/dW1\"] = np.dot(params[\"P1\"].T, params[\"dE/dL2\"])  # 4x3\n",
    "    params[\"dE/db1\"] = np.sum(params[\"dE/dL2\"], axis=0)\n",
    "\n",
    "    params[\"dE/dP1\"] = np.dot(params[\"dE/dL2\"], params[\"W1\"].T)  # 1x4\n",
    "    params[\"dP1/dL1\"] = params[\"P1\"] * (1 - params[\"P1\"])  # 1x4\n",
    "    params[\"dE/dL1\"] = params[\"dE/dP1\"] * params[\"dP1/dL1\"]  # 1x4\n",
    "    params[\"dE/dW0\"] = np.dot(params[\"L0\"].T, params[\"dE/dL1\"])  # 4x4\n",
    "    params[\"dE/db0\"] = np.sum(params[\"dE/dL1\"], axis=0)\n",
    "\n",
    "    params[\"W1\"] -= giper_params[\"learning rate\"] * params[\"dE/dW1\"]\n",
    "    params[\"b1\"] -= giper_params[\"learning rate\"] * params[\"dE/db1\"]\n",
    "\n",
    "    params[\"W0\"] -= giper_params[\"learning rate\"] * params[\"dE/dW0\"]\n",
    "    params[\"b0\"] -= giper_params[\"learning rate\"] * params[\"dE/db0\"]"
   ],
   "metadata": {
    "collapsed": false,
    "pycharm": {
     "name": "#%%\n",
     "is_executing": false
    }
   }
  },
  {
   "cell_type": "code",
   "execution_count": 20,
   "outputs": [],
   "source": [
    "X = data[\"data\"]\n",
    "y_lables = data[\"target\"]\n",
    "\n",
    "All_len = len(X)\n",
    "\n",
    "y = np.zeros((len(y_lables), 3))\n",
    "for i, a in enumerate(y_lables):\n",
    "    y[i][a] = 1\n",
    "\n",
    "df = DataFrame(X)\n",
    "df[\"labels\"] = y_lables\n",
    "\n",
    "X = X.reshape(-1, 4)\n",
    "y = y.reshape(-1, 3)"
   ],
   "metadata": {
    "collapsed": false,
    "pycharm": {
     "name": "#%%\n",
     "is_executing": false
    }
   }
  },
  {
   "cell_type": "code",
   "execution_count": 21,
   "outputs": [],
   "source": [
    "TEST_SIZE = 30\n",
    "\n",
    "test_len = TEST_SIZE\n",
    "train_len = All_len - test_len\n",
    "\n",
    "# np.random.seed(1)\n",
    "X_train, y_train, X_test, y_test = test_train_split(X, y, shuffle=True, test_size=(test_len / All_len))"
   ],
   "metadata": {
    "collapsed": false,
    "pycharm": {
     "name": "#%%\n",
     "is_executing": false
    }
   }
  },
  {
   "cell_type": "code",
   "execution_count": 22,
   "outputs": [],
   "source": [
    "normalizer = MinMaxNormalizer()\n",
    "X_train = normalizer.fit_and_normalize(X_train)\n",
    "X_test = normalizer.normalize(X_test)\n",
    "\n",
    "params = dict()\n",
    "\n",
    "giper_params = dict()\n",
    "giper_params[\"learning rate\"] = 0.01\n",
    "giper_params[\"batch size\"] = 10\n",
    "\n",
    "lenX = len(y)\n",
    "\n",
    "net_init_1(params)"
   ],
   "metadata": {
    "collapsed": false,
    "pycharm": {
     "name": "#%%\n",
     "is_executing": false
    }
   }
  },
  {
   "cell_type": "code",
   "execution_count": 23,
   "outputs": [
    {
     "traceback": [
      "\u001b[1;31m---------------------------------------------------------------------------\u001b[0m",
      "\u001b[1;31mKeyboardInterrupt\u001b[0m                         Traceback (most recent call last)",
      "\u001b[1;32m<ipython-input-23-41d9d5b03b5e>\u001b[0m in \u001b[0;36m<module>\u001b[1;34m\u001b[0m\n\u001b[0;32m     17\u001b[0m             \u001b[0my_cur\u001b[0m \u001b[1;33m=\u001b[0m \u001b[0my_train\u001b[0m\u001b[1;33m[\u001b[0m\u001b[0mbatch_iter\u001b[0m\u001b[1;33m:\u001b[0m \u001b[0mtrain_len\u001b[0m\u001b[1;33m]\u001b[0m\u001b[1;33m\u001b[0m\u001b[1;33m\u001b[0m\u001b[0m\n\u001b[0;32m     18\u001b[0m \u001b[1;33m\u001b[0m\u001b[0m\n\u001b[1;32m---> 19\u001b[1;33m         \u001b[0mforward_prop_1\u001b[0m\u001b[1;33m(\u001b[0m\u001b[0mX_cur\u001b[0m\u001b[1;33m,\u001b[0m \u001b[0my_cur\u001b[0m\u001b[1;33m,\u001b[0m \u001b[0mparams\u001b[0m\u001b[1;33m)\u001b[0m\u001b[1;33m\u001b[0m\u001b[1;33m\u001b[0m\u001b[0m\n\u001b[0m\u001b[0;32m     20\u001b[0m         \u001b[0mback_prop_2\u001b[0m\u001b[1;33m(\u001b[0m\u001b[0mX_cur\u001b[0m\u001b[1;33m,\u001b[0m \u001b[0my_cur\u001b[0m\u001b[1;33m,\u001b[0m \u001b[0mparams\u001b[0m\u001b[1;33m,\u001b[0m \u001b[0mgiper_params\u001b[0m\u001b[1;33m)\u001b[0m\u001b[1;33m\u001b[0m\u001b[1;33m\u001b[0m\u001b[0m\n\u001b[0;32m     21\u001b[0m \u001b[1;33m\u001b[0m\u001b[0m\n",
      "\u001b[1;32m<ipython-input-23-41d9d5b03b5e>\u001b[0m in \u001b[0;36m<module>\u001b[1;34m\u001b[0m\n\u001b[0;32m     17\u001b[0m             \u001b[0my_cur\u001b[0m \u001b[1;33m=\u001b[0m \u001b[0my_train\u001b[0m\u001b[1;33m[\u001b[0m\u001b[0mbatch_iter\u001b[0m\u001b[1;33m:\u001b[0m \u001b[0mtrain_len\u001b[0m\u001b[1;33m]\u001b[0m\u001b[1;33m\u001b[0m\u001b[1;33m\u001b[0m\u001b[0m\n\u001b[0;32m     18\u001b[0m \u001b[1;33m\u001b[0m\u001b[0m\n\u001b[1;32m---> 19\u001b[1;33m         \u001b[0mforward_prop_1\u001b[0m\u001b[1;33m(\u001b[0m\u001b[0mX_cur\u001b[0m\u001b[1;33m,\u001b[0m \u001b[0my_cur\u001b[0m\u001b[1;33m,\u001b[0m \u001b[0mparams\u001b[0m\u001b[1;33m)\u001b[0m\u001b[1;33m\u001b[0m\u001b[1;33m\u001b[0m\u001b[0m\n\u001b[0m\u001b[0;32m     20\u001b[0m         \u001b[0mback_prop_2\u001b[0m\u001b[1;33m(\u001b[0m\u001b[0mX_cur\u001b[0m\u001b[1;33m,\u001b[0m \u001b[0my_cur\u001b[0m\u001b[1;33m,\u001b[0m \u001b[0mparams\u001b[0m\u001b[1;33m,\u001b[0m \u001b[0mgiper_params\u001b[0m\u001b[1;33m)\u001b[0m\u001b[1;33m\u001b[0m\u001b[1;33m\u001b[0m\u001b[0m\n\u001b[0;32m     21\u001b[0m \u001b[1;33m\u001b[0m\u001b[0m\n",
      "\u001b[1;32m_pydevd_bundle\\pydevd_cython_win32_37_64.pyx\u001b[0m in \u001b[0;36m_pydevd_bundle.pydevd_cython_win32_37_64.SafeCallWrapper.__call__\u001b[1;34m()\u001b[0m\n",
      "\u001b[1;32m_pydevd_bundle\\pydevd_cython_win32_37_64.pyx\u001b[0m in \u001b[0;36m_pydevd_bundle.pydevd_cython_win32_37_64.PyDBFrame.trace_dispatch\u001b[1;34m()\u001b[0m\n",
      "\u001b[1;32m_pydevd_bundle\\pydevd_cython_win32_37_64.pyx\u001b[0m in \u001b[0;36m_pydevd_bundle.pydevd_cython_win32_37_64.PyDBFrame.trace_dispatch\u001b[1;34m()\u001b[0m\n",
      "\u001b[1;32m_pydevd_bundle\\pydevd_cython_win32_37_64.pyx\u001b[0m in \u001b[0;36m_pydevd_bundle.pydevd_cython_win32_37_64.PyDBFrame.trace_dispatch\u001b[1;34m()\u001b[0m\n",
      "\u001b[1;32m_pydevd_bundle\\pydevd_cython_win32_37_64.pyx\u001b[0m in \u001b[0;36m_pydevd_bundle.pydevd_cython_win32_37_64.PyDBFrame.do_wait_suspend\u001b[1;34m()\u001b[0m\n",
      "\u001b[1;32mD:\\ProgramFiles\\JetBrains\\apps\\PyCharm-P\\ch-0\\192.7142.42\\helpers\\pydev\\pydevd.py\u001b[0m in \u001b[0;36mdo_wait_suspend\u001b[1;34m(self, thread, frame, event, arg, send_suspend_message, is_unhandled_exception)\u001b[0m\n\u001b[0;32m   1078\u001b[0m \u001b[1;33m\u001b[0m\u001b[0m\n\u001b[0;32m   1079\u001b[0m         \u001b[1;32mwith\u001b[0m \u001b[0mself\u001b[0m\u001b[1;33m.\u001b[0m\u001b[0m_threads_suspended_single_notification\u001b[0m\u001b[1;33m.\u001b[0m\u001b[0mnotify_thread_suspended\u001b[0m\u001b[1;33m(\u001b[0m\u001b[0mthread_id\u001b[0m\u001b[1;33m,\u001b[0m \u001b[0mstop_reason\u001b[0m\u001b[1;33m)\u001b[0m\u001b[1;33m:\u001b[0m\u001b[1;33m\u001b[0m\u001b[1;33m\u001b[0m\u001b[0m\n\u001b[1;32m-> 1080\u001b[1;33m             \u001b[0mself\u001b[0m\u001b[1;33m.\u001b[0m\u001b[0m_do_wait_suspend\u001b[0m\u001b[1;33m(\u001b[0m\u001b[0mthread\u001b[0m\u001b[1;33m,\u001b[0m \u001b[0mframe\u001b[0m\u001b[1;33m,\u001b[0m \u001b[0mevent\u001b[0m\u001b[1;33m,\u001b[0m \u001b[0marg\u001b[0m\u001b[1;33m,\u001b[0m \u001b[0msuspend_type\u001b[0m\u001b[1;33m,\u001b[0m \u001b[0mfrom_this_thread\u001b[0m\u001b[1;33m)\u001b[0m\u001b[1;33m\u001b[0m\u001b[1;33m\u001b[0m\u001b[0m\n\u001b[0m\u001b[0;32m   1081\u001b[0m \u001b[1;33m\u001b[0m\u001b[0m\n\u001b[0;32m   1082\u001b[0m     \u001b[1;32mdef\u001b[0m \u001b[0m_do_wait_suspend\u001b[0m\u001b[1;33m(\u001b[0m\u001b[0mself\u001b[0m\u001b[1;33m,\u001b[0m \u001b[0mthread\u001b[0m\u001b[1;33m,\u001b[0m \u001b[0mframe\u001b[0m\u001b[1;33m,\u001b[0m \u001b[0mevent\u001b[0m\u001b[1;33m,\u001b[0m \u001b[0marg\u001b[0m\u001b[1;33m,\u001b[0m \u001b[0msuspend_type\u001b[0m\u001b[1;33m,\u001b[0m \u001b[0mfrom_this_thread\u001b[0m\u001b[1;33m)\u001b[0m\u001b[1;33m:\u001b[0m\u001b[1;33m\u001b[0m\u001b[1;33m\u001b[0m\u001b[0m\n",
      "\u001b[1;32mD:\\ProgramFiles\\JetBrains\\apps\\PyCharm-P\\ch-0\\192.7142.42\\helpers\\pydev\\pydevd.py\u001b[0m in \u001b[0;36m_do_wait_suspend\u001b[1;34m(self, thread, frame, event, arg, suspend_type, from_this_thread)\u001b[0m\n\u001b[0;32m   1093\u001b[0m \u001b[1;33m\u001b[0m\u001b[0m\n\u001b[0;32m   1094\u001b[0m                 \u001b[0mself\u001b[0m\u001b[1;33m.\u001b[0m\u001b[0mprocess_internal_commands\u001b[0m\u001b[1;33m(\u001b[0m\u001b[1;33m)\u001b[0m\u001b[1;33m\u001b[0m\u001b[1;33m\u001b[0m\u001b[0m\n\u001b[1;32m-> 1095\u001b[1;33m                 \u001b[0mtime\u001b[0m\u001b[1;33m.\u001b[0m\u001b[0msleep\u001b[0m\u001b[1;33m(\u001b[0m\u001b[1;36m0.01\u001b[0m\u001b[1;33m)\u001b[0m\u001b[1;33m\u001b[0m\u001b[1;33m\u001b[0m\u001b[0m\n\u001b[0m\u001b[0;32m   1096\u001b[0m \u001b[1;33m\u001b[0m\u001b[0m\n\u001b[0;32m   1097\u001b[0m         \u001b[0mself\u001b[0m\u001b[1;33m.\u001b[0m\u001b[0mcancel_async_evaluation\u001b[0m\u001b[1;33m(\u001b[0m\u001b[0mget_current_thread_id\u001b[0m\u001b[1;33m(\u001b[0m\u001b[0mthread\u001b[0m\u001b[1;33m)\u001b[0m\u001b[1;33m,\u001b[0m \u001b[0mstr\u001b[0m\u001b[1;33m(\u001b[0m\u001b[0mid\u001b[0m\u001b[1;33m(\u001b[0m\u001b[0mframe\u001b[0m\u001b[1;33m)\u001b[0m\u001b[1;33m)\u001b[0m\u001b[1;33m)\u001b[0m\u001b[1;33m\u001b[0m\u001b[1;33m\u001b[0m\u001b[0m\n",
      "\u001b[1;31mKeyboardInterrupt\u001b[0m: "
     ],
     "ename": "KeyboardInterrupt",
     "evalue": "",
     "output_type": "error"
    }
   ],
   "source": [
    "test_accuracy = []\n",
    "train_accuracy = []\n",
    "time = []\n",
    "\n",
    "iteration = 400\n",
    "batch_size = 2\n",
    "\n",
    "for iter in range(iteration):\n",
    "    for batch_iter in range(0, train_len, batch_size):\n",
    "        \n",
    "        if batch_iter + batch_size < train_len:\n",
    "            X_cur = X_train[batch_iter: batch_iter + batch_size]\n",
    "            y_cur = y_train[batch_iter: batch_iter + batch_size]\n",
    "        else:\n",
    "            X_cur = X_train[batch_iter: train_len]\n",
    "            y_cur = y_train[batch_iter: train_len]\n",
    "        \n",
    "        forward_prop_1(X_cur, y_cur, params)\n",
    "        back_prop_2(X_cur, y_cur, params, giper_params)\n",
    "    \n",
    "    time.append(iter)  \n",
    "    test_accuracy.append(count_accuracy(X_test, y_test, params))\n",
    "    train_accuracy.append(count_accuracy(X_train, y_train, params))\n",
    "\n",
    "# for i in range(train_len * 400):\n",
    "#     X_cur = X_train[i % train_len].reshape(1, -1)\n",
    "#     y_cur = y_train[i % train_len].reshape(1, -1)\n",
    "#     forward_prop_1(X_cur, y_cur, params)\n",
    "#     back_prop_2(X_cur, y_cur, params, giper_params)\n",
    "#     if (i % train_len) == train_len - 1:\n",
    "#         time.append(i // train_len)\n",
    "# \n",
    "#         test_accuracy.append(count_accuracy(X_test, y_test, params))\n",
    "#         train_accuracy.append(count_accuracy(X_train, y_train, params))\n",
    "\n",
    "plt.plot(time, train_accuracy, \"r\")\n",
    "plt.plot(time, test_accuracy, \"b\")\n",
    "plt.show()"
   ],
   "metadata": {
    "collapsed": false,
    "pycharm": {
     "name": "#%%\n",
     "is_executing": false
    }
   }
  },
  {
   "cell_type": "code",
   "execution_count": 44,
   "outputs": [],
   "source": [],
   "metadata": {
    "collapsed": false,
    "pycharm": {
     "name": "#%%\n",
     "is_executing": false
    }
   }
  },
  {
   "cell_type": "code",
   "execution_count": null,
   "outputs": [],
   "source": [],
   "metadata": {
    "collapsed": false,
    "pycharm": {
     "name": "#%%\n"
    }
   }
  }
 ],
 "metadata": {
  "language_info": {
   "codemirror_mode": {
    "name": "ipython",
    "version": 2
   },
   "file_extension": ".py",
   "mimetype": "text/x-python",
   "name": "python",
   "nbconvert_exporter": "python",
   "pygments_lexer": "ipython2",
   "version": "2.7.6"
  },
  "kernelspec": {
   "name": "python3",
   "language": "python",
   "display_name": "Python 3"
  },
  "pycharm": {
   "stem_cell": {
    "cell_type": "raw",
    "source": [],
    "metadata": {
     "collapsed": false
    }
   }
  }
 },
 "nbformat": 4,
 "nbformat_minor": 0
}