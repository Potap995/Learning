{
 "cells": [
  {
   "cell_type": "code",
   "execution_count": 1,
   "metadata": {
    "collapsed": true,
    "pycharm": {
     "is_executing": false
    }
   },
   "outputs": [],
   "source": [
    "from sklearn.datasets import load_iris  \n",
    "import numpy as np\n",
    "from IrisFisher import softmax, softmax_grad, logloss, logloss_grad"
   ]
  },
  {
   "cell_type": "code",
   "execution_count": 2,
   "outputs": [],
   "source": [
    "data = load_iris()\n",
    "\n",
    "def UnisonShuffle(a, b):\n",
    "    ''' Функция совместного перемешивания'''\n",
    "    assert len(a) == len(b)\n",
    "    p = np.random.permutation(len(a))\n",
    "    return a[p], b[p]\n",
    "\n",
    "def random_init(size, left = -1., right = 1.):\n",
    "    return np.random.random(size = size) * (right + left) + left\n",
    "\n",
    "def net_init_1(params):\n",
    "    params[\"L0\"] = np.zeros((1, 4))\n",
    "    params[\"W0\"] = random_init((4, 3))\n",
    "    params['b0'] = random_init((1, 3))\n",
    "    params[\"L1\"] = np.zeros((1, 3))\n",
    "    params[\"P1\"] = np.zeros((1, 3))\n",
    "    params[\"E\"] = np.zeros((1,1))\n",
    "    \n",
    "def check_shape_1(X, y):\n",
    "    if X.shape !=  (1, 4):\n",
    "        raise ValueError(\"X : Expect shape (1, 4), given {0}\".format(X.shape))\n",
    "    if y.shape !=  (1, 3):\n",
    "        raise ValueError(\"X : Expect shape (1, 3), given {0}\".format(y.shape))\n",
    "    "
   ],
   "metadata": {
    "collapsed": false,
    "pycharm": {
     "name": "#%%\n",
     "is_executing": false
    }
   }
  },
  {
   "cell_type": "code",
   "execution_count": 6,
   "outputs": [],
   "source": [
    "def forward_prop_1(X, y, params):\n",
    "    check_shape_1(X, y)\n",
    "    \n",
    "    params[\"L0\"] = X\n",
    "    params[\"L1\"] = np.dot(params[\"L0\"], params[\"W0\"]) + params[\"b0\"]\n",
    "    params[\"P1\"] = softmax(params[\"L1\"])\n",
    "    \n",
    "    params[\"E\"] = logloss(params[\"P1\"], y)\n",
    "    \n",
    "def back_prop_1(X, y, params, giper_params):\n",
    "    check_shape_1(X, y)\n",
    "    \n",
    "    params[\"dE/dP1\"] = - y / params[\"P1\"] # 1x3\n",
    "    params[\"dP1/dL1\"] = softmax_grad(params[\"P1\"]) # 3x3\n",
    "    params[\"dE/dL1\"] = np.dot(params[\"dE/dP1\"], params[\"dP1/dL1\"]) # 1x3\n",
    "    params[\"dE/dW0\"] = np.dot(params[\"L0\"].T, params[\"dE/dL1\"]) #4x3\n",
    "    params[\"dE/db0\"] = params[\"dE/dL1\"]\n",
    "    \n",
    "    params[\"W0\"] -= giper_params[\"learning rate\"] * params[\"dE/dW0\"]\n",
    "    params[\"b0\"] -= giper_params[\"learning rate\"] * params[\"dE/db0\"]\n",
    "    "
   ],
   "metadata": {
    "collapsed": false,
    "pycharm": {
     "name": "#%%\n",
     "is_executing": false
    }
   }
  },
  {
   "cell_type": "code",
   "execution_count": 29,
   "outputs": [],
   "source": [
    "X = data[\"data\"]\n",
    "y_lables = data[\"target\"]\n",
    "y = np.zeros((len(y_lables), 3))\n",
    "for i, a in enumerate(y_lables):\n",
    "    y[i][a] = 1\n",
    "\n",
    "np.random.seed(179)\n",
    "X, y = UnisonShuffle(X, y)\n",
    "X = X.reshape(-1, 1, 4)\n",
    "y = y.reshape(-1, 1, 3)\n",
    "params = dict()\n",
    "giper_params = dict()\n",
    "giper_params[\"learning rate\"] = 0.1\n",
    "lenX = len(y)\n",
    "\n",
    "\n",
    "net_init_1(params)\n",
    "    "
   ],
   "metadata": {
    "collapsed": false,
    "pycharm": {
     "name": "#%%\n",
     "is_executing": false
    }
   }
  },
  {
   "cell_type": "code",
   "execution_count": 30,
   "outputs": [],
   "source": [
    "for i in range(lenX * 100):\n",
    "    X_cur = X[i % lenX]\n",
    "    y_cur = y[i % lenX]\n",
    "    forward_prop_1(X_cur, y_cur, params)\n",
    "    back_prop_1(X_cur, y_cur, params, giper_params)"
   ],
   "metadata": {
    "collapsed": false,
    "pycharm": {
     "name": "#%%\n",
     "is_executing": false
    }
   }
  },
  {
   "cell_type": "code",
   "execution_count": 31,
   "outputs": [
    {
     "name": "stdout",
     "text": [
      "0 0\n2 2\n1 1\n2 2\n0 0\n2 2\n1 1\n1 2\n0 0\n2 2\n2 2\n2 2\n0 0\n0 0\n0 0\n2 2\n0 0\n1 1\n0 0\n1 2\n0 0\n1 1\n2 2\n2 2\n0 0\n1 1\n1 1\n1 1\n1 1\n2 2\n0 0\n0 0\n0 0\n1 1\n1 2\n1 2\n2 2\n2 2\n2 2\n1 1\n2 2\n1 1\n0 0\n1 1\n1 1\n1 1\n2 2\n1 1\n1 2\n1 1\n0 0\n0 0\n0 0\n2 2\n1 1\n0 0\n1 1\n1 1\n2 2\n2 2\n2 2\n0 0\n2 2\n0 0\n2 2\n0 0\n1 2\n0 0\n0 0\n1 1\n2 2\n0 0\n2 2\n1 1\n2 2\n2 2\n0 0\n1 1\n2 2\n0 0\n0 0\n0 0\n2 2\n1 2\n1 1\n1 2\n2 2\n2 2\n1 1\n0 0\n2 2\n2 2\n0 0\n0 0\n0 0\n1 2\n0 0\n1 2\n2 2\n2 2\n2 2\n1 1\n1 2\n0 0\n0 0\n2 2\n1 1\n2 2\n0 0\n1 1\n0 0\n1 1\n2 2\n0 0\n0 0\n1 1\n1 2\n1 1\n2 2\n2 2\n0 0\n1 1\n0 0\n0 0\n0 0\n2 2\n2 2\n2 2\n0 0\n1 2\n2 2\n1 2\n2 2\n0 0\n0 0\n0 0\n1 1\n1 1\n1 2\n1 1\n2 2\n0 0\n1 2\n2 2\n2 2\n2 2\n2 2\n0 0\n0 0\n2 2\n16\n"
     ],
     "output_type": "stream"
    }
   ],
   "source": [
    "error_counter = 0\n",
    "\n",
    "\n",
    "for iter, item in enumerate(y):\n",
    "    X_cur = X[iter % lenX]\n",
    "    y_cur = y[iter % lenX]\n",
    "    forward_prop_1(X_cur, y_cur, params)\n",
    "    if np.argmax(y_cur) != np.argmax(params[\"P1\"]):\n",
    "        error_counter += 1\n",
    "    print(np.argmax(y_cur), np.argmax(params[\"P1\"]))\n",
    "print(error_counter)"
   ],
   "metadata": {
    "collapsed": false,
    "pycharm": {
     "name": "#%%\n",
     "is_executing": false
    }
   }
  },
  {
   "cell_type": "code",
   "execution_count": null,
   "outputs": [],
   "source": [
    "\n"
   ],
   "metadata": {
    "collapsed": false,
    "pycharm": {
     "name": "#%%\n"
    }
   }
  }
 ],
 "metadata": {
  "language_info": {
   "codemirror_mode": {
    "name": "ipython",
    "version": 2
   },
   "file_extension": ".py",
   "mimetype": "text/x-python",
   "name": "python",
   "nbconvert_exporter": "python",
   "pygments_lexer": "ipython2",
   "version": "2.7.6"
  },
  "kernelspec": {
   "name": "python3",
   "language": "python",
   "display_name": "Python 3"
  },
  "pycharm": {
   "stem_cell": {
    "cell_type": "raw",
    "source": [],
    "metadata": {
     "collapsed": false
    }
   }
  }
 },
 "nbformat": 4,
 "nbformat_minor": 0
}